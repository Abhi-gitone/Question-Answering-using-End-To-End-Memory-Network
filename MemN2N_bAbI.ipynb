{
 "cells": [
  {
   "cell_type": "markdown",
   "id": "ec64856b",
   "metadata": {},
   "source": [
    "### Dataset Description:\n",
    "\n",
    "We will use the bAbI dataset from Meta Research.\n",
    "\n",
    "Dataset link: https://research.facebook.com/downloads/babi/\n",
    "\n",
    "This project follows:\n",
    "Sainbayar Sukhbaatar, Arthur Szlam, Jason Weston, Rob Fergus. End-To-End Memory Networks, arXiv:1503.08895v5, 2015.\n",
    "\n",
    "Research paper link: https://arxiv.org/pdf/1503.08895.pdf"
   ]
  },
  {
   "cell_type": "code",
   "execution_count": 1,
   "id": "eefc827f",
   "metadata": {},
   "outputs": [],
   "source": [
    "##imports\n",
    "import pickle\n",
    "import numpy as np"
   ]
  },
  {
   "cell_type": "code",
   "execution_count": 2,
   "id": "d4b1518a",
   "metadata": {},
   "outputs": [],
   "source": [
    "##load data\n",
    "\n",
    "with open('train_qa.txt', 'rb') as file:\n",
    "    train_data = pickle.load(file)\n",
    "    \n",
    "with open('test_qa.txt', 'rb') as file:\n",
    "    test_data = pickle.load(file)"
   ]
  },
  {
   "cell_type": "markdown",
   "id": "01a57936",
   "metadata": {},
   "source": [
    "#### Dataset Exploration"
   ]
  },
  {
   "cell_type": "code",
   "execution_count": 3,
   "id": "514fa004",
   "metadata": {},
   "outputs": [
    {
     "data": {
      "text/plain": [
       "(['Mary',\n",
       "  'moved',\n",
       "  'to',\n",
       "  'the',\n",
       "  'bathroom',\n",
       "  '.',\n",
       "  'Sandra',\n",
       "  'journeyed',\n",
       "  'to',\n",
       "  'the',\n",
       "  'bedroom',\n",
       "  '.'],\n",
       " ['Is', 'Sandra', 'in', 'the', 'hallway', '?'],\n",
       " 'no')"
      ]
     },
     "execution_count": 3,
     "metadata": {},
     "output_type": "execute_result"
    }
   ],
   "source": [
    "train_data[0]"
   ]
  },
  {
   "cell_type": "code",
   "execution_count": 4,
   "id": "e8017436",
   "metadata": {},
   "outputs": [
    {
     "name": "stdout",
     "output_type": "stream",
     "text": [
      "Story: Mary moved to the bathroom . Sandra journeyed to the bedroom .\n",
      "Query: Is Sandra in the hallway ?\n",
      "Answer: no\n",
      "\n",
      "\n",
      "\n",
      "Story: Mary moved to the bathroom . Sandra journeyed to the bedroom . Mary went back to the bedroom . Daniel went back to the hallway .\n",
      "Query: Is Daniel in the bathroom ?\n",
      "Answer: no\n",
      "\n",
      "\n",
      "\n",
      "Story: Mary moved to the bathroom . Sandra journeyed to the bedroom . Mary went back to the bedroom . Daniel went back to the hallway . Sandra went to the kitchen . Daniel went back to the bathroom .\n",
      "Query: Is Daniel in the office ?\n",
      "Answer: no\n",
      "\n",
      "\n",
      "\n",
      "Story: Mary moved to the bathroom . Sandra journeyed to the bedroom . Mary went back to the bedroom . Daniel went back to the hallway . Sandra went to the kitchen . Daniel went back to the bathroom . Daniel picked up the football there . Daniel went to the bedroom .\n",
      "Query: Is Daniel in the bedroom ?\n",
      "Answer: yes\n",
      "\n",
      "\n",
      "\n",
      "Story: Mary moved to the bathroom . Sandra journeyed to the bedroom . Mary went back to the bedroom . Daniel went back to the hallway . Sandra went to the kitchen . Daniel went back to the bathroom . Daniel picked up the football there . Daniel went to the bedroom . John travelled to the office . Sandra went to the garden .\n",
      "Query: Is Daniel in the bedroom ?\n",
      "Answer: yes\n",
      "\n",
      "\n",
      "\n"
     ]
    }
   ],
   "source": [
    "##print first five (story, question, answer) tuples in train_data\n",
    "for (story, query, answer) in train_data[:5]:\n",
    "    print(f\"Story: {' '.join(story)}\")\n",
    "    print(f\"Query: {' '.join(query)}\")\n",
    "    print(f\"Answer: {answer}\")\n",
    "    print(\"\\n\\n\")"
   ]
  },
  {
   "cell_type": "markdown",
   "id": "5da0f4d5",
   "metadata": {},
   "source": [
    "#### Vectorization"
   ]
  },
  {
   "cell_type": "code",
   "execution_count": 5,
   "id": "637c6c3e",
   "metadata": {},
   "outputs": [],
   "source": [
    "all_data = train_data + test_data"
   ]
  },
  {
   "cell_type": "code",
   "execution_count": 6,
   "id": "3610f361",
   "metadata": {},
   "outputs": [
    {
     "data": {
      "text/plain": [
       "156"
      ]
     },
     "execution_count": 6,
     "metadata": {},
     "output_type": "execute_result"
    }
   ],
   "source": [
    "##check max story len\n",
    "max_story_len = max([len(story) for (story, query, answer) in all_data])\n",
    "max_story_len"
   ]
  },
  {
   "cell_type": "code",
   "execution_count": 7,
   "id": "40aa2451",
   "metadata": {},
   "outputs": [
    {
     "data": {
      "text/plain": [
       "6"
      ]
     },
     "execution_count": 7,
     "metadata": {},
     "output_type": "execute_result"
    }
   ],
   "source": [
    "##check max query len\n",
    "max_query_len = max([len(query) for (story, query, answer) in all_data])\n",
    "max_query_len"
   ]
  },
  {
   "cell_type": "code",
   "execution_count": 8,
   "id": "cd897093",
   "metadata": {},
   "outputs": [
    {
     "name": "stderr",
     "output_type": "stream",
     "text": [
      "Using TensorFlow backend.\n"
     ]
    }
   ],
   "source": [
    "## setting vocabulary and fitting tokenizer\n",
    "\n",
    "from keras.preprocessing.sequence import pad_sequences\n",
    "from keras.preprocessing.text import Tokenizer\n",
    "\n",
    "tokenizer = Tokenizer(filters=[]) ##specifying empty iterable for filters to retain punctuations and other markers (such as ?)\n",
    "\n",
    "##creating vocabulary\n",
    "vocab = set() ##set is a python iterable generally used for storing unique elements\n",
    "for (story, query, answer) in all_data:\n",
    "    vocab = vocab.union(set(story)) ##add any new elements found in story\n",
    "    vocab = vocab.union(set(query)) ##add any new elements found in query\n",
    "\n",
    "##adding the 'yes' and 'no' for answer\n",
    "vocab.add('yes')\n",
    "vocab.add('no')\n",
    "\n",
    "##tokenizer fit\n",
    "tokenizer.fit_on_texts(vocab)\n",
    "\n",
    "##specifying vocab size\n",
    "vocab_size = len(vocab) + 1 ##keras needs an extra column for padding"
   ]
  },
  {
   "cell_type": "code",
   "execution_count": 9,
   "id": "e65cdc57",
   "metadata": {},
   "outputs": [],
   "source": [
    "##function for text vectorization\n",
    "\n",
    "def vectorize(data, word_index=tokenizer.word_index, max_story_len=max_story_len, max_query_len=max_query_len):\n",
    "    \n",
    "    inputs_data = list() ##list to contain vectorized stories\n",
    "    \n",
    "    queries_data = list() ##list to contain vectorized queries\n",
    "    \n",
    "    answers_data = list() ##list to contain categorically encoded answers\n",
    "    \n",
    "    ##iteration\n",
    "    for (story, query, answer) in data:\n",
    "        \n",
    "        ##numerically vectorize and append story to inputs_data\n",
    "        inputs = [word_index[word.lower()] for word in story]\n",
    "        inputs_data.append(inputs)\n",
    "        \n",
    "        ##numerically vectorize, pad, and append query to inputs_data\n",
    "        queries = [word_index[word.lower()] for word in query]\n",
    "        queries_data.append(queries)\n",
    "        \n",
    "        ##categorically vectorize (sort of like one-hot) and append to answers_data\n",
    "        answers = np.zeros(len(word_index)+1) ##vocab_size + 1\n",
    "        answers[word_index[answer]] = 1\n",
    "        answers_data.append(answers)\n",
    "        \n",
    "    ##pad inputs_data and queries_data\n",
    "    inputs_data = pad_sequences(inputs_data, maxlen=max_story_len, padding='pre')\n",
    "    queries_data = pad_sequences(queries_data, maxlen=max_query_len, padding='pre')\n",
    "    \n",
    "    answers_data = np.array(answers_data)\n",
    "    \n",
    "    return inputs_data, queries_data, answers_data"
   ]
  },
  {
   "cell_type": "code",
   "execution_count": 10,
   "id": "084f700f",
   "metadata": {},
   "outputs": [],
   "source": [
    "##vectorize train_data and test_data\n",
    "inputs_train, queries_train, answers_train = vectorize(data=train_data)\n",
    "inputs_test, queries_test, asnwers_test = vectorize(data=test_data)"
   ]
  },
  {
   "cell_type": "code",
   "execution_count": 11,
   "id": "12e86b65",
   "metadata": {},
   "outputs": [
    {
     "data": {
      "text/plain": [
       "array([[ 0,  0,  0, ..., 13, 29, 28],\n",
       "       [ 0,  0,  0, ..., 13, 35, 28],\n",
       "       [ 0,  0,  0, ..., 13,  1, 28],\n",
       "       ...,\n",
       "       [ 0,  0,  0, ..., 13, 29, 28],\n",
       "       [ 0,  0,  0, ...,  9, 27, 28],\n",
       "       [ 0,  0,  0, ..., 18, 27, 28]])"
      ]
     },
     "execution_count": 11,
     "metadata": {},
     "output_type": "execute_result"
    }
   ],
   "source": [
    "inputs_train"
   ]
  },
  {
   "cell_type": "code",
   "execution_count": 12,
   "id": "159026b6",
   "metadata": {},
   "outputs": [
    {
     "data": {
      "text/plain": [
       "(10000, 156)"
      ]
     },
     "execution_count": 12,
     "metadata": {},
     "output_type": "execute_result"
    }
   ],
   "source": [
    "inputs_train.shape"
   ]
  },
  {
   "cell_type": "code",
   "execution_count": 13,
   "id": "3d8853d1",
   "metadata": {},
   "outputs": [
    {
     "data": {
      "text/plain": [
       "array([[ 2, 14, 34, 13, 35,  6],\n",
       "       [ 2, 26, 34, 13,  1,  6],\n",
       "       [ 2, 26, 34, 13, 15,  6],\n",
       "       ...,\n",
       "       [ 2, 14, 34, 13, 35,  6],\n",
       "       [ 2,  4, 34, 13, 19,  6],\n",
       "       [ 2,  4, 34, 13, 29,  6]])"
      ]
     },
     "execution_count": 13,
     "metadata": {},
     "output_type": "execute_result"
    }
   ],
   "source": [
    "queries_train"
   ]
  },
  {
   "cell_type": "code",
   "execution_count": 14,
   "id": "96208f2d",
   "metadata": {},
   "outputs": [
    {
     "data": {
      "text/plain": [
       "(10000, 6)"
      ]
     },
     "execution_count": 14,
     "metadata": {},
     "output_type": "execute_result"
    }
   ],
   "source": [
    "queries_train.shape"
   ]
  },
  {
   "cell_type": "code",
   "execution_count": 15,
   "id": "0bff59ec",
   "metadata": {},
   "outputs": [],
   "source": [
    "##stacking answers_train into a matrix\n",
    "##answers_train = np.stack(answers_train)"
   ]
  },
  {
   "cell_type": "code",
   "execution_count": 16,
   "id": "407bd605",
   "metadata": {},
   "outputs": [
    {
     "data": {
      "text/plain": [
       "array([[0., 0., 0., ..., 0., 0., 1.],\n",
       "       [0., 0., 0., ..., 0., 0., 1.],\n",
       "       [0., 0., 0., ..., 0., 0., 1.],\n",
       "       ...,\n",
       "       [0., 0., 0., ..., 0., 0., 1.],\n",
       "       [0., 0., 0., ..., 0., 0., 1.],\n",
       "       [0., 0., 0., ..., 0., 0., 0.]])"
      ]
     },
     "execution_count": 16,
     "metadata": {},
     "output_type": "execute_result"
    }
   ],
   "source": [
    "answers_train"
   ]
  },
  {
   "cell_type": "code",
   "execution_count": 17,
   "id": "36cf4dce",
   "metadata": {},
   "outputs": [
    {
     "data": {
      "text/plain": [
       "(10000, 38)"
      ]
     },
     "execution_count": 17,
     "metadata": {},
     "output_type": "execute_result"
    }
   ],
   "source": [
    "answers_train.shape"
   ]
  },
  {
   "cell_type": "markdown",
   "id": "72b86e1a",
   "metadata": {},
   "source": [
    "#### Model Building"
   ]
  },
  {
   "cell_type": "code",
   "execution_count": 18,
   "id": "f3148885",
   "metadata": {},
   "outputs": [],
   "source": [
    "from keras.models import Sequential, Model\n",
    "from keras.layers.embeddings import Embedding\n",
    "from keras.layers import Permute, Dropout, Input, Dense, Activation\n",
    "from keras.layers import dot, add, concatenate\n",
    "from keras.layers import LSTM"
   ]
  },
  {
   "cell_type": "raw",
   "id": "1eab4cf5",
   "metadata": {},
   "source": [
    "Step 1: Defining inputs"
   ]
  },
  {
   "cell_type": "code",
   "execution_count": 19,
   "id": "7f0466d9",
   "metadata": {},
   "outputs": [],
   "source": [
    "input_data = Input((max_story_len,))\n",
    "query = Input((max_query_len,))"
   ]
  },
  {
   "cell_type": "raw",
   "id": "e8a13ded",
   "metadata": {},
   "source": [
    "Step 2: Defining encoder to encode input_data for Input Memory Representation"
   ]
  },
  {
   "cell_type": "code",
   "execution_count": 20,
   "id": "a199d975",
   "metadata": {},
   "outputs": [
    {
     "name": "stdout",
     "output_type": "stream",
     "text": [
      "WARNING:tensorflow:From C:\\Users\\abhin\\anaconda3\\envs\\nlp_course\\lib\\site-packages\\tensorflow\\python\\ops\\resource_variable_ops.py:435: colocate_with (from tensorflow.python.framework.ops) is deprecated and will be removed in a future version.\n",
      "Instructions for updating:\n",
      "Colocations handled automatically by placer.\n"
     ]
    }
   ],
   "source": [
    "input_encoder_m = Sequential()\n",
    "input_encoder_m.add(Embedding(input_dim=vocab_size, output_dim=64)) ##output_dim=64 suggested in research paper\n",
    "input_encoder_m.add(Dropout(rate=0.3)) ##turns off 30% neurons during training to prevent overfitting\n",
    "\n",
    "##OUTPUT --> (samples, max_story_len, embedding_size=64)"
   ]
  },
  {
   "cell_type": "raw",
   "id": "3e508a17",
   "metadata": {},
   "source": [
    "Step 3: Defining encoder to encode input_data for Output Memory Representation"
   ]
  },
  {
   "cell_type": "code",
   "execution_count": 21,
   "id": "c6c4a532",
   "metadata": {},
   "outputs": [],
   "source": [
    "input_encoder_c = Sequential()\n",
    "input_encoder_c.add(Embedding(input_dim=vocab_size, output_dim=max_query_len))\n",
    "input_encoder_c.add(Dropout(rate=0.3)) ##turns off 30% neurons while training to prevent overfitting\n",
    "\n",
    "##OUTPUT --> (samples, max_story_len, max_query_len)"
   ]
  },
  {
   "cell_type": "raw",
   "id": "8cd78092",
   "metadata": {},
   "source": [
    "Step 4: Defining encoder to encode query for Input Memory Representation"
   ]
  },
  {
   "cell_type": "code",
   "execution_count": 22,
   "id": "80893927",
   "metadata": {},
   "outputs": [],
   "source": [
    "query_encoder = Sequential()\n",
    "query_encoder.add(Embedding(input_dim=vocab_size, output_dim=64, input_length=max_query_len))\n",
    "query_encoder.add(Dropout(rate=0.3)) ##turns off 30% neurons while training to prevent overfitting\n",
    "\n",
    "##OUTPUT --> (samples, max_query_len, embedding_size=64)"
   ]
  },
  {
   "cell_type": "raw",
   "id": "01e0f645",
   "metadata": {},
   "source": [
    "Step 5: Encoding the sequences"
   ]
  },
  {
   "cell_type": "code",
   "execution_count": 24,
   "id": "b834cc0d",
   "metadata": {},
   "outputs": [],
   "source": [
    "input_encoded_m = input_encoder_m(input_data)\n",
    "input_encoded_c = input_encoder_c(input_data)\n",
    "query_encoded = query_encoder(query)"
   ]
  },
  {
   "cell_type": "code",
   "execution_count": 25,
   "id": "74f57185",
   "metadata": {},
   "outputs": [
    {
     "data": {
      "text/plain": [
       "<tf.Tensor 'sequential_1/dropout_1/cond/Merge:0' shape=(?, 156, 64) dtype=float32>"
      ]
     },
     "execution_count": 25,
     "metadata": {},
     "output_type": "execute_result"
    }
   ],
   "source": [
    "input_encoded_m"
   ]
  },
  {
   "cell_type": "code",
   "execution_count": 26,
   "id": "2ea1d3ab",
   "metadata": {},
   "outputs": [
    {
     "data": {
      "text/plain": [
       "<tf.Tensor 'sequential_2/dropout_2/cond/Merge:0' shape=(?, 156, 6) dtype=float32>"
      ]
     },
     "execution_count": 26,
     "metadata": {},
     "output_type": "execute_result"
    }
   ],
   "source": [
    "input_encoded_c"
   ]
  },
  {
   "cell_type": "code",
   "execution_count": 27,
   "id": "05d17bc6",
   "metadata": {},
   "outputs": [
    {
     "data": {
      "text/plain": [
       "<tf.Tensor 'sequential_3/dropout_3/cond/Merge:0' shape=(?, 6, 64) dtype=float32>"
      ]
     },
     "execution_count": 27,
     "metadata": {},
     "output_type": "execute_result"
    }
   ],
   "source": [
    "query_encoded"
   ]
  },
  {
   "cell_type": "raw",
   "id": "41e10cb8",
   "metadata": {},
   "source": [
    "Step 6: DOT of input_encoded_m and query_encoded followed by softmax activation"
   ]
  },
  {
   "cell_type": "code",
   "execution_count": 28,
   "id": "066f7cc1",
   "metadata": {},
   "outputs": [
    {
     "data": {
      "text/plain": [
       "<tf.Tensor 'activation_1/truediv:0' shape=(?, 156, 6) dtype=float32>"
      ]
     },
     "execution_count": 28,
     "metadata": {},
     "output_type": "execute_result"
    }
   ],
   "source": [
    "match = dot([input_encoded_m, query_encoded], axes=(2,2))\n",
    "match = Activation('softmax')(match)\n",
    "match\n",
    "\n",
    "##OUTPUT --> (samples, max_story_len, max_query_len)"
   ]
  },
  {
   "cell_type": "raw",
   "id": "8ca91267",
   "metadata": {},
   "source": [
    "Step 7: Weighted sum of match and input_encoded_c followed by transpose"
   ]
  },
  {
   "cell_type": "code",
   "execution_count": 29,
   "id": "3ada682f",
   "metadata": {},
   "outputs": [
    {
     "data": {
      "text/plain": [
       "<tf.Tensor 'permute_1/transpose:0' shape=(?, 6, 156) dtype=float32>"
      ]
     },
     "execution_count": 29,
     "metadata": {},
     "output_type": "execute_result"
    }
   ],
   "source": [
    "response = add([match, input_encoded_c])\n",
    "response = Permute((2,1))(response) ##(max_story_len, max_query_len) --> (max_query_len, max_story_len)\n",
    "response\n",
    "\n",
    "##OUTPUT --> (samples, max_query_len, max_story_len)"
   ]
  },
  {
   "cell_type": "raw",
   "id": "104b3712",
   "metadata": {},
   "source": [
    "Step 8: Concatenate the transposed response with query_encoded"
   ]
  },
  {
   "cell_type": "code",
   "execution_count": 30,
   "id": "f16e2856",
   "metadata": {},
   "outputs": [
    {
     "data": {
      "text/plain": [
       "<tf.Tensor 'concatenate_1/concat:0' shape=(?, 6, 220) dtype=float32>"
      ]
     },
     "execution_count": 30,
     "metadata": {},
     "output_type": "execute_result"
    }
   ],
   "source": [
    "answer = concatenate([response, query_encoded])\n",
    "answer\n",
    "\n",
    "##OUTPUT --> (samples, max_query_len, max_story_len + embedding size)"
   ]
  },
  {
   "cell_type": "raw",
   "id": "c5493294",
   "metadata": {},
   "source": [
    "Step 9: Reduction of answer with LSTM to shape (samples, 32)"
   ]
  },
  {
   "cell_type": "code",
   "execution_count": 31,
   "id": "29b5123f",
   "metadata": {},
   "outputs": [
    {
     "data": {
      "text/plain": [
       "<tf.Tensor 'lstm_1/strided_slice_18:0' shape=(?, 32) dtype=float32>"
      ]
     },
     "execution_count": 31,
     "metadata": {},
     "output_type": "execute_result"
    }
   ],
   "source": [
    "answer = LSTM(32)(answer)\n",
    "answer\n",
    "\n",
    "##OUTPUT --> (samples, 32)"
   ]
  },
  {
   "cell_type": "raw",
   "id": "6f705467",
   "metadata": {},
   "source": [
    "Step 10: Dropout and regularization of answer to desired shape i.e. (samples, vocab_size)"
   ]
  },
  {
   "cell_type": "code",
   "execution_count": 32,
   "id": "64a7ec00",
   "metadata": {},
   "outputs": [
    {
     "data": {
      "text/plain": [
       "<tf.Tensor 'dense_1/BiasAdd:0' shape=(?, 38) dtype=float32>"
      ]
     },
     "execution_count": 32,
     "metadata": {},
     "output_type": "execute_result"
    }
   ],
   "source": [
    "answer = Dropout(rate=0.5)(answer) ##turns off 50% neurons during training to prevent overfitting\n",
    "answer = Dense(vocab_size)(answer) ##(samples, 32) --> (samples, vocab_size)\n",
    "answer\n",
    "\n",
    "##OUTPUT --> (samples, vocab_size)"
   ]
  },
  {
   "cell_type": "raw",
   "id": "aaf09eac",
   "metadata": {},
   "source": [
    "Step 11: Softmax activation of answer to get probability distribution over vocab"
   ]
  },
  {
   "cell_type": "code",
   "execution_count": 33,
   "id": "a854fd09",
   "metadata": {},
   "outputs": [
    {
     "data": {
      "text/plain": [
       "<tf.Tensor 'activation_2/Softmax:0' shape=(?, 38) dtype=float32>"
      ]
     },
     "execution_count": 33,
     "metadata": {},
     "output_type": "execute_result"
    }
   ],
   "source": [
    "answer = Activation('softmax')(answer)\n",
    "answer"
   ]
  },
  {
   "cell_type": "raw",
   "id": "af42b63f",
   "metadata": {},
   "source": [
    "Step 12: Model compilation"
   ]
  },
  {
   "cell_type": "code",
   "execution_count": 34,
   "id": "3235f4b0",
   "metadata": {},
   "outputs": [
    {
     "name": "stdout",
     "output_type": "stream",
     "text": [
      "Model: \"model_1\"\n",
      "__________________________________________________________________________________________________\n",
      "Layer (type)                    Output Shape         Param #     Connected to                     \n",
      "==================================================================================================\n",
      "input_1 (InputLayer)            (None, 156)          0                                            \n",
      "__________________________________________________________________________________________________\n",
      "input_2 (InputLayer)            (None, 6)            0                                            \n",
      "__________________________________________________________________________________________________\n",
      "sequential_1 (Sequential)       multiple             2432        input_1[0][0]                    \n",
      "__________________________________________________________________________________________________\n",
      "sequential_3 (Sequential)       (None, 6, 64)        2432        input_2[0][0]                    \n",
      "__________________________________________________________________________________________________\n",
      "dot_1 (Dot)                     (None, 156, 6)       0           sequential_1[2][0]               \n",
      "                                                                 sequential_3[2][0]               \n",
      "__________________________________________________________________________________________________\n",
      "activation_1 (Activation)       (None, 156, 6)       0           dot_1[0][0]                      \n",
      "__________________________________________________________________________________________________\n",
      "sequential_2 (Sequential)       multiple             228         input_1[0][0]                    \n",
      "__________________________________________________________________________________________________\n",
      "add_1 (Add)                     (None, 156, 6)       0           activation_1[0][0]               \n",
      "                                                                 sequential_2[2][0]               \n",
      "__________________________________________________________________________________________________\n",
      "permute_1 (Permute)             (None, 6, 156)       0           add_1[0][0]                      \n",
      "__________________________________________________________________________________________________\n",
      "concatenate_1 (Concatenate)     (None, 6, 220)       0           permute_1[0][0]                  \n",
      "                                                                 sequential_3[2][0]               \n",
      "__________________________________________________________________________________________________\n",
      "lstm_1 (LSTM)                   (None, 32)           32384       concatenate_1[0][0]              \n",
      "__________________________________________________________________________________________________\n",
      "dropout_4 (Dropout)             (None, 32)           0           lstm_1[0][0]                     \n",
      "__________________________________________________________________________________________________\n",
      "dense_1 (Dense)                 (None, 38)           1254        dropout_4[0][0]                  \n",
      "__________________________________________________________________________________________________\n",
      "activation_2 (Activation)       (None, 38)           0           dense_1[0][0]                    \n",
      "==================================================================================================\n",
      "Total params: 38,730\n",
      "Trainable params: 38,730\n",
      "Non-trainable params: 0\n",
      "__________________________________________________________________________________________________\n"
     ]
    }
   ],
   "source": [
    "model = Model([input_data, query], answer)\n",
    "model.compile(optimizer='rmsprop', loss='categorical_crossentropy', metrics=['accuracy'])\n",
    "model.summary()"
   ]
  },
  {
   "cell_type": "raw",
   "id": "c77331c5",
   "metadata": {},
   "source": [
    "Step 13: Model training"
   ]
  },
  {
   "cell_type": "code",
   "execution_count": 35,
   "id": "904d5d09",
   "metadata": {},
   "outputs": [
    {
     "name": "stdout",
     "output_type": "stream",
     "text": [
      "WARNING:tensorflow:From C:\\Users\\abhin\\anaconda3\\envs\\nlp_course\\lib\\site-packages\\tensorflow\\python\\ops\\math_ops.py:3066: to_int32 (from tensorflow.python.ops.math_ops) is deprecated and will be removed in a future version.\n",
      "Instructions for updating:\n",
      "Use tf.cast instead.\n",
      "WARNING:tensorflow:From C:\\Users\\abhin\\anaconda3\\envs\\nlp_course\\lib\\site-packages\\tensorflow\\python\\ops\\math_grad.py:102: div (from tensorflow.python.ops.math_ops) is deprecated and will be removed in a future version.\n",
      "Instructions for updating:\n",
      "Deprecated in favor of operator or tf.math.divide.\n",
      "Train on 10000 samples, validate on 1000 samples\n",
      "Epoch 1/120\n",
      "10000/10000 [==============================] - 5s 510us/step - loss: 0.9237 - accuracy: 0.4925 - val_loss: 0.6962 - val_accuracy: 0.5030\n",
      "Epoch 2/120\n",
      "10000/10000 [==============================] - 4s 415us/step - loss: 0.7058 - accuracy: 0.4935 - val_loss: 0.6996 - val_accuracy: 0.4970\n",
      "Epoch 3/120\n",
      "10000/10000 [==============================] - 4s 430us/step - loss: 0.6981 - accuracy: 0.4896 - val_loss: 0.6936 - val_accuracy: 0.4970\n",
      "Epoch 4/120\n",
      "10000/10000 [==============================] - 4s 418us/step - loss: 0.6949 - accuracy: 0.5007 - val_loss: 0.6933 - val_accuracy: 0.4970\n",
      "Epoch 5/120\n",
      "10000/10000 [==============================] - 4s 395us/step - loss: 0.6950 - accuracy: 0.5010 - val_loss: 0.6947 - val_accuracy: 0.5030\n",
      "Epoch 6/120\n",
      "10000/10000 [==============================] - 3s 323us/step - loss: 0.6949 - accuracy: 0.4996 - val_loss: 0.6940 - val_accuracy: 0.4970\n",
      "Epoch 7/120\n",
      "10000/10000 [==============================] - 3s 324us/step - loss: 0.6948 - accuracy: 0.4961 - val_loss: 0.6933 - val_accuracy: 0.4970\n",
      "Epoch 8/120\n",
      "10000/10000 [==============================] - 3s 327us/step - loss: 0.6944 - accuracy: 0.4995 - val_loss: 0.6939 - val_accuracy: 0.4970\n",
      "Epoch 9/120\n",
      "10000/10000 [==============================] - 3s 338us/step - loss: 0.6944 - accuracy: 0.4996 - val_loss: 0.6936 - val_accuracy: 0.4970\n",
      "Epoch 10/120\n",
      "10000/10000 [==============================] - 3s 344us/step - loss: 0.6943 - accuracy: 0.5057 - val_loss: 0.6937 - val_accuracy: 0.4970\n",
      "Epoch 11/120\n",
      "10000/10000 [==============================] - 3s 343us/step - loss: 0.6934 - accuracy: 0.5095 - val_loss: 0.6956 - val_accuracy: 0.4960\n",
      "Epoch 12/120\n",
      "10000/10000 [==============================] - 4s 385us/step - loss: 0.6938 - accuracy: 0.5042 - val_loss: 0.6952 - val_accuracy: 0.5030\n",
      "Epoch 13/120\n",
      "10000/10000 [==============================] - 4s 378us/step - loss: 0.6931 - accuracy: 0.5126 - val_loss: 0.6937 - val_accuracy: 0.4910\n",
      "Epoch 14/120\n",
      "10000/10000 [==============================] - 4s 374us/step - loss: 0.6906 - accuracy: 0.5252 - val_loss: 0.6915 - val_accuracy: 0.5010\n",
      "Epoch 15/120\n",
      "10000/10000 [==============================] - 4s 369us/step - loss: 0.6820 - accuracy: 0.5563 - val_loss: 0.6792 - val_accuracy: 0.5600\n",
      "Epoch 16/120\n",
      "10000/10000 [==============================] - 4s 373us/step - loss: 0.6655 - accuracy: 0.6004 - val_loss: 0.6481 - val_accuracy: 0.6300\n",
      "Epoch 17/120\n",
      "10000/10000 [==============================] - 4s 373us/step - loss: 0.6445 - accuracy: 0.6256 - val_loss: 0.6257 - val_accuracy: 0.6510\n",
      "Epoch 18/120\n",
      "10000/10000 [==============================] - 4s 364us/step - loss: 0.6291 - accuracy: 0.6454 - val_loss: 0.6120 - val_accuracy: 0.6730\n",
      "Epoch 19/120\n",
      "10000/10000 [==============================] - 4s 379us/step - loss: 0.6201 - accuracy: 0.6604 - val_loss: 0.6010 - val_accuracy: 0.6990\n",
      "Epoch 20/120\n",
      "10000/10000 [==============================] - 4s 377us/step - loss: 0.6037 - accuracy: 0.6826 - val_loss: 0.5744 - val_accuracy: 0.7120\n",
      "Epoch 21/120\n",
      "10000/10000 [==============================] - 4s 366us/step - loss: 0.5793 - accuracy: 0.7005 - val_loss: 0.5384 - val_accuracy: 0.7450\n",
      "Epoch 22/120\n",
      "10000/10000 [==============================] - 4s 355us/step - loss: 0.5450 - accuracy: 0.7369 - val_loss: 0.5028 - val_accuracy: 0.7710\n",
      "Epoch 23/120\n",
      "10000/10000 [==============================] - 4s 377us/step - loss: 0.5166 - accuracy: 0.7574 - val_loss: 0.4939 - val_accuracy: 0.7720\n",
      "Epoch 24/120\n",
      "10000/10000 [==============================] - 4s 388us/step - loss: 0.4902 - accuracy: 0.7757 - val_loss: 0.4691 - val_accuracy: 0.7900\n",
      "Epoch 25/120\n",
      "10000/10000 [==============================] - 4s 354us/step - loss: 0.4739 - accuracy: 0.7924 - val_loss: 0.4502 - val_accuracy: 0.8040\n",
      "Epoch 26/120\n",
      "10000/10000 [==============================] - 4s 364us/step - loss: 0.4569 - accuracy: 0.7991 - val_loss: 0.4391 - val_accuracy: 0.8050\n",
      "Epoch 27/120\n",
      "10000/10000 [==============================] - 4s 376us/step - loss: 0.4443 - accuracy: 0.8057 - val_loss: 0.4270 - val_accuracy: 0.8090\n",
      "Epoch 28/120\n",
      "10000/10000 [==============================] - 4s 371us/step - loss: 0.4344 - accuracy: 0.8116 - val_loss: 0.4602 - val_accuracy: 0.8170\n",
      "Epoch 29/120\n",
      "10000/10000 [==============================] - 4s 384us/step - loss: 0.4236 - accuracy: 0.8177 - val_loss: 0.4168 - val_accuracy: 0.8160\n",
      "Epoch 30/120\n",
      "10000/10000 [==============================] - 4s 373us/step - loss: 0.4120 - accuracy: 0.8263 - val_loss: 0.4156 - val_accuracy: 0.8240\n",
      "Epoch 31/120\n",
      "10000/10000 [==============================] - 4s 382us/step - loss: 0.4021 - accuracy: 0.8301 - val_loss: 0.4025 - val_accuracy: 0.8230\n",
      "Epoch 32/120\n",
      "10000/10000 [==============================] - 4s 384us/step - loss: 0.3922 - accuracy: 0.8313 - val_loss: 0.3996 - val_accuracy: 0.8330\n",
      "Epoch 33/120\n",
      "10000/10000 [==============================] - 4s 371us/step - loss: 0.3819 - accuracy: 0.8393 - val_loss: 0.4028 - val_accuracy: 0.8240\n",
      "Epoch 34/120\n",
      "10000/10000 [==============================] - 4s 371us/step - loss: 0.3678 - accuracy: 0.8465 - val_loss: 0.3913 - val_accuracy: 0.8210\n",
      "Epoch 35/120\n",
      "10000/10000 [==============================] - 4s 370us/step - loss: 0.3607 - accuracy: 0.8468 - val_loss: 0.3781 - val_accuracy: 0.8270\n",
      "Epoch 36/120\n",
      "10000/10000 [==============================] - 4s 369us/step - loss: 0.3471 - accuracy: 0.8528 - val_loss: 0.3704 - val_accuracy: 0.8330\n",
      "Epoch 37/120\n",
      "10000/10000 [==============================] - 4s 379us/step - loss: 0.3483 - accuracy: 0.8521 - val_loss: 0.3961 - val_accuracy: 0.8290\n",
      "Epoch 38/120\n",
      "10000/10000 [==============================] - 4s 358us/step - loss: 0.3401 - accuracy: 0.8541 - val_loss: 0.3591 - val_accuracy: 0.8410\n",
      "Epoch 39/120\n",
      "10000/10000 [==============================] - 4s 367us/step - loss: 0.3419 - accuracy: 0.8561 - val_loss: 0.3661 - val_accuracy: 0.8420\n",
      "Epoch 40/120\n",
      "10000/10000 [==============================] - 4s 369us/step - loss: 0.3357 - accuracy: 0.8585 - val_loss: 0.3621 - val_accuracy: 0.8320\n",
      "Epoch 41/120\n",
      "10000/10000 [==============================] - 4s 367us/step - loss: 0.3251 - accuracy: 0.8624 - val_loss: 0.3706 - val_accuracy: 0.8360\n",
      "Epoch 42/120\n",
      "10000/10000 [==============================] - 4s 367us/step - loss: 0.3240 - accuracy: 0.8584 - val_loss: 0.3659 - val_accuracy: 0.8330\n",
      "Epoch 43/120\n",
      "10000/10000 [==============================] - 4s 371us/step - loss: 0.3264 - accuracy: 0.8598 - val_loss: 0.3664 - val_accuracy: 0.8230\n",
      "Epoch 44/120\n",
      "10000/10000 [==============================] - 4s 369us/step - loss: 0.3217 - accuracy: 0.8589 - val_loss: 0.3660 - val_accuracy: 0.8380\n",
      "Epoch 45/120\n",
      "10000/10000 [==============================] - 4s 357us/step - loss: 0.3264 - accuracy: 0.8589 - val_loss: 0.3789 - val_accuracy: 0.8220\n",
      "Epoch 46/120\n",
      "10000/10000 [==============================] - 4s 373us/step - loss: 0.3166 - accuracy: 0.8641 - val_loss: 0.3573 - val_accuracy: 0.8370\n",
      "Epoch 47/120\n",
      "10000/10000 [==============================] - 4s 370us/step - loss: 0.3146 - accuracy: 0.8643 - val_loss: 0.3710 - val_accuracy: 0.8300\n",
      "Epoch 48/120\n",
      "10000/10000 [==============================] - 4s 385us/step - loss: 0.3108 - accuracy: 0.8695 - val_loss: 0.3712 - val_accuracy: 0.8370\n",
      "Epoch 49/120\n",
      "10000/10000 [==============================] - 4s 375us/step - loss: 0.3076 - accuracy: 0.8683 - val_loss: 0.3762 - val_accuracy: 0.8420\n",
      "Epoch 50/120\n",
      "10000/10000 [==============================] - 4s 355us/step - loss: 0.3072 - accuracy: 0.8674 - val_loss: 0.3790 - val_accuracy: 0.8270\n",
      "Epoch 51/120\n"
     ]
    },
    {
     "name": "stdout",
     "output_type": "stream",
     "text": [
      "10000/10000 [==============================] - 4s 370us/step - loss: 0.3059 - accuracy: 0.8698 - val_loss: 0.3567 - val_accuracy: 0.8270\n",
      "Epoch 52/120\n",
      "10000/10000 [==============================] - 4s 353us/step - loss: 0.3093 - accuracy: 0.8642 - val_loss: 0.3724 - val_accuracy: 0.8270\n",
      "Epoch 53/120\n",
      "10000/10000 [==============================] - 4s 351us/step - loss: 0.3005 - accuracy: 0.8707 - val_loss: 0.3529 - val_accuracy: 0.8340\n",
      "Epoch 54/120\n",
      "10000/10000 [==============================] - 4s 363us/step - loss: 0.3008 - accuracy: 0.8727 - val_loss: 0.3661 - val_accuracy: 0.8330\n",
      "Epoch 55/120\n",
      "10000/10000 [==============================] - 4s 358us/step - loss: 0.2992 - accuracy: 0.8717 - val_loss: 0.3831 - val_accuracy: 0.8360\n",
      "Epoch 56/120\n",
      "10000/10000 [==============================] - 4s 361us/step - loss: 0.2982 - accuracy: 0.8720 - val_loss: 0.3589 - val_accuracy: 0.8330\n",
      "Epoch 57/120\n",
      "10000/10000 [==============================] - 4s 377us/step - loss: 0.2959 - accuracy: 0.8728 - val_loss: 0.3641 - val_accuracy: 0.8370\n",
      "Epoch 58/120\n",
      "10000/10000 [==============================] - 4s 362us/step - loss: 0.2897 - accuracy: 0.8780 - val_loss: 0.3685 - val_accuracy: 0.8330\n",
      "Epoch 59/120\n",
      "10000/10000 [==============================] - 4s 365us/step - loss: 0.2937 - accuracy: 0.8751 - val_loss: 0.3731 - val_accuracy: 0.8310\n",
      "Epoch 60/120\n",
      "10000/10000 [==============================] - 4s 381us/step - loss: 0.2970 - accuracy: 0.8745 - val_loss: 0.3743 - val_accuracy: 0.8280\n",
      "Epoch 61/120\n",
      "10000/10000 [==============================] - 4s 354us/step - loss: 0.2909 - accuracy: 0.8787 - val_loss: 0.3633 - val_accuracy: 0.8330\n",
      "Epoch 62/120\n",
      "10000/10000 [==============================] - 4s 360us/step - loss: 0.2904 - accuracy: 0.8744 - val_loss: 0.3850 - val_accuracy: 0.8310\n",
      "Epoch 63/120\n",
      "10000/10000 [==============================] - 4s 365us/step - loss: 0.2910 - accuracy: 0.8757 - val_loss: 0.3763 - val_accuracy: 0.8250\n",
      "Epoch 64/120\n",
      "10000/10000 [==============================] - 4s 371us/step - loss: 0.2813 - accuracy: 0.8813 - val_loss: 0.3875 - val_accuracy: 0.8320\n",
      "Epoch 65/120\n",
      "10000/10000 [==============================] - 4s 369us/step - loss: 0.2843 - accuracy: 0.8788 - val_loss: 0.3866 - val_accuracy: 0.8330\n",
      "Epoch 66/120\n",
      "10000/10000 [==============================] - 4s 372us/step - loss: 0.2840 - accuracy: 0.8783 - val_loss: 0.3728 - val_accuracy: 0.8240\n",
      "Epoch 67/120\n",
      "10000/10000 [==============================] - 4s 363us/step - loss: 0.2828 - accuracy: 0.8799 - val_loss: 0.3718 - val_accuracy: 0.8260\n",
      "Epoch 68/120\n",
      "10000/10000 [==============================] - 4s 365us/step - loss: 0.2802 - accuracy: 0.8785 - val_loss: 0.3772 - val_accuracy: 0.8220\n",
      "Epoch 69/120\n",
      "10000/10000 [==============================] - 4s 372us/step - loss: 0.2747 - accuracy: 0.8848 - val_loss: 0.3874 - val_accuracy: 0.8240\n",
      "Epoch 70/120\n",
      "10000/10000 [==============================] - 4s 371us/step - loss: 0.2761 - accuracy: 0.8821 - val_loss: 0.4155 - val_accuracy: 0.8280\n",
      "Epoch 71/120\n",
      "10000/10000 [==============================] - 4s 403us/step - loss: 0.2737 - accuracy: 0.8821 - val_loss: 0.4070 - val_accuracy: 0.8280\n",
      "Epoch 72/120\n",
      "10000/10000 [==============================] - 4s 374us/step - loss: 0.2773 - accuracy: 0.8822 - val_loss: 0.3965 - val_accuracy: 0.8240\n",
      "Epoch 73/120\n",
      "10000/10000 [==============================] - 4s 369us/step - loss: 0.2708 - accuracy: 0.8831 - val_loss: 0.4418 - val_accuracy: 0.8230\n",
      "Epoch 74/120\n",
      "10000/10000 [==============================] - 4s 375us/step - loss: 0.2716 - accuracy: 0.8850 - val_loss: 0.4251 - val_accuracy: 0.8230\n",
      "Epoch 75/120\n",
      "10000/10000 [==============================] - 4s 394us/step - loss: 0.2686 - accuracy: 0.8856 - val_loss: 0.4204 - val_accuracy: 0.8310\n",
      "Epoch 76/120\n",
      "10000/10000 [==============================] - 4s 360us/step - loss: 0.2639 - accuracy: 0.8886 - val_loss: 0.4097 - val_accuracy: 0.8260\n",
      "Epoch 77/120\n",
      "10000/10000 [==============================] - 4s 379us/step - loss: 0.2662 - accuracy: 0.8885 - val_loss: 0.3951 - val_accuracy: 0.8280\n",
      "Epoch 78/120\n",
      "10000/10000 [==============================] - 4s 365us/step - loss: 0.2662 - accuracy: 0.8891 - val_loss: 0.4386 - val_accuracy: 0.8230\n",
      "Epoch 79/120\n",
      "10000/10000 [==============================] - 4s 357us/step - loss: 0.2665 - accuracy: 0.8874 - val_loss: 0.4120 - val_accuracy: 0.8220\n",
      "Epoch 80/120\n",
      "10000/10000 [==============================] - 4s 354us/step - loss: 0.2601 - accuracy: 0.8888 - val_loss: 0.4269 - val_accuracy: 0.8240\n",
      "Epoch 81/120\n",
      "10000/10000 [==============================] - 4s 384us/step - loss: 0.2595 - accuracy: 0.8884 - val_loss: 0.4129 - val_accuracy: 0.8290\n",
      "Epoch 82/120\n",
      "10000/10000 [==============================] - 4s 377us/step - loss: 0.2567 - accuracy: 0.8916 - val_loss: 0.4244 - val_accuracy: 0.8260\n",
      "Epoch 83/120\n",
      "10000/10000 [==============================] - 4s 376us/step - loss: 0.2546 - accuracy: 0.8920 - val_loss: 0.4342 - val_accuracy: 0.8220\n",
      "Epoch 84/120\n",
      "10000/10000 [==============================] - 4s 350us/step - loss: 0.2615 - accuracy: 0.8891 - val_loss: 0.4460 - val_accuracy: 0.8280\n",
      "Epoch 85/120\n",
      "10000/10000 [==============================] - 4s 356us/step - loss: 0.2521 - accuracy: 0.8932 - val_loss: 0.4408 - val_accuracy: 0.8190\n",
      "Epoch 86/120\n",
      "10000/10000 [==============================] - 4s 378us/step - loss: 0.2545 - accuracy: 0.8941 - val_loss: 0.4237 - val_accuracy: 0.8270\n",
      "Epoch 87/120\n",
      "10000/10000 [==============================] - 4s 376us/step - loss: 0.2559 - accuracy: 0.8950 - val_loss: 0.4242 - val_accuracy: 0.8220\n",
      "Epoch 88/120\n",
      "10000/10000 [==============================] - 4s 368us/step - loss: 0.2520 - accuracy: 0.8943 - val_loss: 0.4413 - val_accuracy: 0.8180\n",
      "Epoch 89/120\n",
      "10000/10000 [==============================] - 4s 373us/step - loss: 0.2499 - accuracy: 0.8940 - val_loss: 0.4510 - val_accuracy: 0.8130\n",
      "Epoch 90/120\n",
      "10000/10000 [==============================] - 4s 353us/step - loss: 0.2507 - accuracy: 0.8882 - val_loss: 0.4472 - val_accuracy: 0.8230\n",
      "Epoch 91/120\n",
      "10000/10000 [==============================] - 4s 358us/step - loss: 0.2457 - accuracy: 0.8951 - val_loss: 0.4717 - val_accuracy: 0.8210\n",
      "Epoch 92/120\n",
      "10000/10000 [==============================] - 4s 367us/step - loss: 0.2458 - accuracy: 0.8974 - val_loss: 0.4477 - val_accuracy: 0.8210\n",
      "Epoch 93/120\n",
      "10000/10000 [==============================] - 4s 384us/step - loss: 0.2448 - accuracy: 0.8984 - val_loss: 0.4228 - val_accuracy: 0.8190\n",
      "Epoch 94/120\n",
      "10000/10000 [==============================] - 4s 375us/step - loss: 0.2470 - accuracy: 0.8973 - val_loss: 0.4825 - val_accuracy: 0.8240\n",
      "Epoch 95/120\n",
      "10000/10000 [==============================] - 4s 380us/step - loss: 0.2472 - accuracy: 0.8949 - val_loss: 0.4542 - val_accuracy: 0.8200\n",
      "Epoch 96/120\n",
      "10000/10000 [==============================] - 4s 370us/step - loss: 0.2444 - accuracy: 0.8979 - val_loss: 0.4360 - val_accuracy: 0.8200\n",
      "Epoch 97/120\n",
      "10000/10000 [==============================] - 4s 376us/step - loss: 0.2401 - accuracy: 0.9001 - val_loss: 0.4881 - val_accuracy: 0.8170\n",
      "Epoch 98/120\n",
      "10000/10000 [==============================] - 4s 401us/step - loss: 0.2378 - accuracy: 0.8981 - val_loss: 0.4594 - val_accuracy: 0.8130\n",
      "Epoch 99/120\n",
      "10000/10000 [==============================] - 5s 514us/step - loss: 0.2378 - accuracy: 0.9014 - val_loss: 0.4508 - val_accuracy: 0.8180\n",
      "Epoch 100/120\n",
      "10000/10000 [==============================] - 5s 537us/step - loss: 0.2369 - accuracy: 0.8985 - val_loss: 0.4514 - val_accuracy: 0.8240\n",
      "Epoch 101/120\n",
      "10000/10000 [==============================] - 5s 509us/step - loss: 0.2399 - accuracy: 0.8995 - val_loss: 0.4541 - val_accuracy: 0.8210\n",
      "Epoch 102/120\n",
      "10000/10000 [==============================] - 5s 519us/step - loss: 0.2365 - accuracy: 0.9002 - val_loss: 0.4814 - val_accuracy: 0.8220\n",
      "Epoch 103/120\n",
      "10000/10000 [==============================] - 5s 522us/step - loss: 0.2342 - accuracy: 0.9028 - val_loss: 0.4369 - val_accuracy: 0.8220\n",
      "Epoch 104/120\n",
      "10000/10000 [==============================] - 5s 507us/step - loss: 0.2397 - accuracy: 0.8994 - val_loss: 0.4800 - val_accuracy: 0.8140\n",
      "Epoch 105/120\n"
     ]
    },
    {
     "name": "stdout",
     "output_type": "stream",
     "text": [
      "10000/10000 [==============================] - 5s 543us/step - loss: 0.2299 - accuracy: 0.9027 - val_loss: 0.4771 - val_accuracy: 0.8260\n",
      "Epoch 106/120\n",
      "10000/10000 [==============================] - 6s 553us/step - loss: 0.2272 - accuracy: 0.9050 - val_loss: 0.5012 - val_accuracy: 0.8200\n",
      "Epoch 107/120\n",
      "10000/10000 [==============================] - 5s 531us/step - loss: 0.2262 - accuracy: 0.9062 - val_loss: 0.4908 - val_accuracy: 0.8190\n",
      "Epoch 108/120\n",
      "10000/10000 [==============================] - 5s 536us/step - loss: 0.2295 - accuracy: 0.9080 - val_loss: 0.4807 - val_accuracy: 0.8140\n",
      "Epoch 109/120\n",
      "10000/10000 [==============================] - 5s 493us/step - loss: 0.2245 - accuracy: 0.9035 - val_loss: 0.5419 - val_accuracy: 0.8180\n",
      "Epoch 110/120\n",
      "10000/10000 [==============================] - 5s 501us/step - loss: 0.2323 - accuracy: 0.9041 - val_loss: 0.5333 - val_accuracy: 0.8170\n",
      "Epoch 111/120\n",
      "10000/10000 [==============================] - 5s 500us/step - loss: 0.2279 - accuracy: 0.9078 - val_loss: 0.4699 - val_accuracy: 0.8150\n",
      "Epoch 112/120\n",
      "10000/10000 [==============================] - 5s 531us/step - loss: 0.2256 - accuracy: 0.9071 - val_loss: 0.4989 - val_accuracy: 0.8180\n",
      "Epoch 113/120\n",
      "10000/10000 [==============================] - 5s 494us/step - loss: 0.2226 - accuracy: 0.9061 - val_loss: 0.4834 - val_accuracy: 0.8210\n",
      "Epoch 114/120\n",
      "10000/10000 [==============================] - 5s 514us/step - loss: 0.2233 - accuracy: 0.9102 - val_loss: 0.4981 - val_accuracy: 0.8200\n",
      "Epoch 115/120\n",
      "10000/10000 [==============================] - 5s 502us/step - loss: 0.2224 - accuracy: 0.9109 - val_loss: 0.4975 - val_accuracy: 0.8240\n",
      "Epoch 116/120\n",
      "10000/10000 [==============================] - 5s 511us/step - loss: 0.2215 - accuracy: 0.9091 - val_loss: 0.5207 - val_accuracy: 0.8230\n",
      "Epoch 117/120\n",
      "10000/10000 [==============================] - 5s 512us/step - loss: 0.2180 - accuracy: 0.9085 - val_loss: 0.5097 - val_accuracy: 0.8120\n",
      "Epoch 118/120\n",
      "10000/10000 [==============================] - 5s 512us/step - loss: 0.2148 - accuracy: 0.9106 - val_loss: 0.5503 - val_accuracy: 0.8200\n",
      "Epoch 119/120\n",
      "10000/10000 [==============================] - 5s 507us/step - loss: 0.2194 - accuracy: 0.9098 - val_loss: 0.5388 - val_accuracy: 0.8100\n",
      "Epoch 120/120\n",
      "10000/10000 [==============================] - 5s 492us/step - loss: 0.2169 - accuracy: 0.9106 - val_loss: 0.5573 - val_accuracy: 0.8130\n"
     ]
    }
   ],
   "source": [
    "history = model.fit([inputs_train, queries_train], answers_train, batch_size=32, epochs=120, \n",
    "                    validation_data=([inputs_test, queries_test], asnwers_test))"
   ]
  },
  {
   "cell_type": "raw",
   "id": "a9933b84",
   "metadata": {},
   "source": [
    "Step 14: Save model"
   ]
  },
  {
   "cell_type": "code",
   "execution_count": 36,
   "id": "ebcba220",
   "metadata": {},
   "outputs": [],
   "source": [
    "model.save('MemN2N_bAbI_batchsize32_epochs120.h5')"
   ]
  },
  {
   "cell_type": "raw",
   "id": "7247ffaf",
   "metadata": {},
   "source": [
    "Step 15: Save tokenizer"
   ]
  },
  {
   "cell_type": "code",
   "execution_count": 37,
   "id": "8b7b6128",
   "metadata": {},
   "outputs": [],
   "source": [
    "pickle.dump(tokenizer, open('MemN2N_bAbI_tokenizer', 'wb'))"
   ]
  },
  {
   "cell_type": "raw",
   "id": "edf1e279",
   "metadata": {},
   "source": [
    "Step 16: Plot training history"
   ]
  },
  {
   "cell_type": "code",
   "execution_count": 54,
   "id": "2a1aa68a",
   "metadata": {},
   "outputs": [
    {
     "name": "stdout",
     "output_type": "stream",
     "text": [
      "dict_keys(['val_loss', 'val_accuracy', 'loss', 'accuracy'])\n"
     ]
    },
    {
     "data": {
      "image/png": "[encoded data removed]",
      "text/plain": [
       "<Figure size 1000x500 with 1 Axes>"
      ]
     },
     "metadata": {},
     "output_type": "display_data"
    }
   ],
   "source": [
    "##plotting accuracy\n",
    "\n",
    "import matplotlib.pyplot as plt\n",
    "%matplotlib inline\n",
    "\n",
    "print(history.history.keys())\n",
    "\n",
    "fig, ax = plt.subplots(figsize=(10,5))\n",
    "\n",
    "ax.plot(history.history['accuracy'])\n",
    "ax.plot(history.history['val_accuracy'])\n",
    "ax.set_xlabel(xlabel='epoch')\n",
    "ax.set_ylabel(ylabel='accuracy')\n",
    "ax.legend(['train','test'])\n",
    "\n",
    "plt.show()"
   ]
  },
  {
   "cell_type": "code",
   "execution_count": 58,
   "id": "9fe9b8a7",
   "metadata": {},
   "outputs": [
    {
     "name": "stdout",
     "output_type": "stream",
     "text": [
      "dict_keys(['val_loss', 'val_accuracy', 'loss', 'accuracy'])\n"
     ]
    },
    {
     "data": {
      "image/png": "[encoded data removed]",
      "text/plain": [
       "<Figure size 1000x500 with 1 Axes>"
      ]
     },
     "metadata": {},
     "output_type": "display_data"
    }
   ],
   "source": [
    "##plotting loss\n",
    "\n",
    "print(history.history.keys())\n",
    "\n",
    "fig2, ax2 = plt.subplots(figsize=(10,5))\n",
    "\n",
    "ax2.plot(history.history['loss'])\n",
    "ax2.plot(history.history['val_loss'])\n",
    "ax2.set_xlabel(xlabel='epoch')\n",
    "ax2.set_ylabel(ylabel='loss')\n",
    "ax2.legend(['train','test'])\n",
    "\n",
    "plt.show()"
   ]
  },
  {
   "cell_type": "raw",
   "id": "37da047b",
   "metadata": {},
   "source": [
    "Step 17: Testing the model with real inputs (Important: only use the vocab that the model has been trained on)"
   ]
  },
  {
   "cell_type": "code",
   "execution_count": 59,
   "id": "fb4b4c83",
   "metadata": {},
   "outputs": [
    {
     "name": "stdout",
     "output_type": "stream",
     "text": [
      "{'bathroom', 'Is', 'left', 'Mary', 'travelled', '?', 'moved', 'picked', 'milk', 'journeyed', 'took', 'discarded', 'the', 'Sandra', 'office', 'put', 'went', 'apple', 'kitchen', 'grabbed', 'football', 'up', 'John', 'down', 'back', 'Daniel', 'there', '.', 'bedroom', 'dropped', 'to', 'garden', 'yes', 'in', 'hallway', 'got', 'no'}\n"
     ]
    }
   ],
   "source": [
    "print(vocab)"
   ]
  },
  {
   "cell_type": "code",
   "execution_count": 88,
   "id": "53addb29",
   "metadata": {},
   "outputs": [],
   "source": [
    "def get_answer(model=model, tokenizer=tokenizer, max_story_len=max_story_len, max_query_len=max_query_len):\n",
    "    \n",
    "    ##get story and query as input from user\n",
    "    story = input(\"Story: \")\n",
    "    query = input(\"Query: \")\n",
    "    \n",
    "    ##encode the story and pad it\n",
    "    story_encoded = [tokenizer.word_index[word.lower()] for word in story.split(' ')]\n",
    "    story_encoded = pad_sequences([story_encoded], maxlen=max_story_len, truncating='pre')\n",
    "    \n",
    "    ##encode the query and pad it\n",
    "    query_encoded = [tokenizer.word_index[word.lower()] for word in query.split(' ')]\n",
    "    query_encoded = pad_sequences([query_encoded], maxlen=max_query_len, truncating='pre')\n",
    "    \n",
    "    ##get probability distribution over all words in vocab size\n",
    "    prob = model.predict([story_encoded, query_encoded])\n",
    "    \n",
    "    ##get index position of highest probability word\n",
    "    index_word = np.argmax(prob)\n",
    "    \n",
    "    ##get answer\n",
    "    answer = tokenizer.index_word[index_word]\n",
    "    \n",
    "    print(f\"Answer: {answer}\")\n",
    "    \n",
    "    return answer"
   ]
  },
  {
   "cell_type": "code",
   "execution_count": 89,
   "id": "6f2773d5",
   "metadata": {},
   "outputs": [
    {
     "name": "stdout",
     "output_type": "stream",
     "text": [
      "Story: Mary is in the garden . John left the hallway .\n",
      "Query: Is Mary in the garden ?\n",
      "Answer: yes\n"
     ]
    },
    {
     "data": {
      "text/plain": [
       "'yes'"
      ]
     },
     "execution_count": 89,
     "metadata": {},
     "output_type": "execute_result"
    }
   ],
   "source": [
    "get_answer(model=model, tokenizer=tokenizer)"
   ]
  },
  {
   "cell_type": "code",
   "execution_count": 95,
   "id": "a0310ec9",
   "metadata": {},
   "outputs": [
    {
     "name": "stdout",
     "output_type": "stream",
     "text": [
      "Story: John took the milk there . Mary grabbed the apple there . Mary went back to the office . Daniel went to the garden . Daniel went back to the kitchen . John put down the milk . Sandra travelled to the garden . John got the milk there .\n",
      "Query: Is Daniel in the garden ?\n",
      "Answer: yes\n"
     ]
    },
    {
     "data": {
      "text/plain": [
       "'yes'"
      ]
     },
     "execution_count": 95,
     "metadata": {},
     "output_type": "execute_result"
    }
   ],
   "source": [
    "get_answer(model=model, tokenizer=tokenizer)"
   ]
  },
  {
   "cell_type": "code",
   "execution_count": null,
   "id": "9a54c2ae",
   "metadata": {},
   "outputs": [],
   "source": []
  },
  {
   "cell_type": "code",
   "execution_count": null,
   "id": "a4e7a448",
   "metadata": {},
   "outputs": [],
   "source": []
  },
  {
   "cell_type": "code",
   "execution_count": null,
   "id": "ed497cee",
   "metadata": {},
   "outputs": [],
   "source": []
  },
  {
   "cell_type": "code",
   "execution_count": null,
   "id": "93581247",
   "metadata": {},
   "outputs": [],
   "source": []
  }
 ],
 "metadata": {
  "kernelspec": {
   "display_name": "Python 3 (ipykernel)",
   "language": "python",
   "name": "python3"
  },
  "language_info": {
   "codemirror_mode": {
    "name": "ipython",
    "version": 3
   },
   "file_extension": ".py",
   "mimetype": "text/x-python",
   "name": "python",
   "nbconvert_exporter": "python",
   "pygments_lexer": "ipython3",
   "version": "3.7.16"
  }
 },
 "nbformat": 4,
 "nbformat_minor": 5
}
